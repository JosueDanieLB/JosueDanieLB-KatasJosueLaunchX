{
 "cells": [
  {
   "cell_type": "markdown",
   "metadata": {},
   "source": [
    "# Ejercicio - Escribir declaraciones if, else, y elif"
   ]
  },
  {
   "cell_type": "markdown",
   "metadata": {},
   "source": [
    "Para este ejercicio, escribirás una lógica condicional que imprima una advertencia si un asteroide se acerca a la Tierra demasiado rápido. La velocidad del asteroide varía dependiendo de lo cerca que esté del sol, y cualquier velocidad superior a 25 kilómetros por segundo (km/s) merece una advertencia.\n"
   ]
  },
  {
   "cell_type": "markdown",
   "metadata": {},
   "source": [
    "#Un asteroide se acerca, y viaja a una velocidad de 49 km/s.\n",
    "\n",
    "#Añadir el código necesario para crear una variable que guarde la velocidad del asteroide.\n",
    "\n",
    "#Escribe una expresión de prueba para calcular si necesita una advertencia.\n",
    "\n",
    "#Agregue las instrucciones que se ejecutarán si la expresión de prueba es true o false."
   ]
  },
  {
   "cell_type": "code",
   "execution_count": 17,
   "metadata": {},
   "outputs": [
    {
     "name": "stdout",
     "output_type": "stream",
     "text": [
      "Sistema de monitoreo de asteroides\n",
      "La velocidad actual del asteroide es: 26.2km/s\n",
      "Advertencia: Asteroide en velocidad crítica\n"
     ]
    }
   ],
   "source": [
    "print(\"Sistema de monitoreo de asteroides\")\n",
    "velocidad_asteroide = input(\"Velocidad del asteroide en km/s: \")\n",
    "print(\"La velocidad actual del asteroide es: \" + str(velocidad_asteroide) + \"km/s\")\n",
    "\n",
    "if float(velocidad_asteroide) >= 25:\n",
    "    print(\"Advertencia: Asteroide en velocidad crítica\")\n",
    "\n",
    "else:\n",
    "    print(\"No hay peligro gente\")"
   ]
  },
  {
   "cell_type": "markdown",
   "metadata": {},
   "source": [
    "Si un asteroide entra en la atmósfera de la Tierra a una velocidad mayor o igual a 20 km/s, a veces produce un rayo de luz que se puede ver desde la Tierra. Escribe la lógica condicional que usa declaraciones if, else, y elif para alertar a las personas de todo el mundo que deben buscar un asteroide en el cielo. ¡Hay uno que se dirige a la tierra ahora a una velocidad de 19 km/s!\n",
    "\n",
    "#Agrega el código para crear una variable para un asteroide que viaja a 19 km/s\n",
    "\n",
    "#Escribe varias expresiones de prueba para determinar si puedes ver el rayo de luz desde la tierra\n",
    "\n",
    "#Agrega las instrucciones que se ejecutarán si las expresiones de prueba son True o False"
   ]
  },
  {
   "cell_type": "code",
   "execution_count": 18,
   "metadata": {},
   "outputs": [
    {
     "name": "stdout",
     "output_type": "stream",
     "text": [
      "Sistema de monitoreo de asteroides\n",
      "La velocidad actual del asteroide es: 25.78km/s\n",
      "¡Atención!: ¡Hay una luz en el cielo!\n"
     ]
    }
   ],
   "source": [
    "print(\"Sistema de monitoreo de asteroides\")\n",
    "velocidad_asteroide = input(\"Velocidad del asteroide en km/s: \")\n",
    "print(\"La velocidad actual del asteroide es: \" + str(velocidad_asteroide) + \"km/s\")\n",
    "\n",
    "if float(velocidad_asteroide) == 20:\n",
    "    print(\"¡Atención!: ¡Revisar si hay una luz en el cielo!\")\n",
    "elif float(velocidad_asteroide) >= 20:\n",
    "    print(\"¡Atención!: ¡Hay una luz en el cielo!\")\n",
    "else:\n",
    "    print(\"No hay peligro gente\")"
   ]
  },
  {
   "cell_type": "markdown",
   "metadata": {},
   "source": [
    "# Ejercicio: Uso de operadores and y or"
   ]
  },
  {
   "cell_type": "markdown",
   "metadata": {},
   "source": [
    "*Los asteroides de menos de 25 metros en su dimensión más grande probablemente se quemarán a medida que entren en la atmósfera de la Tierra.\n",
    "\n",
    "    Si una pieza de un asteroide que es más grande que 25 metros pero más pequeña que 1000 metros golpeara la Tierra, causaría mucho daño.\n",
    "\n",
    "También discutimos en el ejercicio anterior que:\n",
    "\n",
    "    La velocidad del asteroide varía en función de lo cerca que esté del sol, y cualquier velocidad superior a 25 kilómetros por segundo (km/s) merece una advertencia.\n",
    "    Si un asteroide entra en la atmósfera de la Tierra a una velocidad mayor o igual a 20 km/s, a veces produce un rayo de luz que se puede ver desde la Tierra.\n",
    "\n",
    "Usando toda esta información, escribe un programa que emita la advertencia o información correcta a la gente de la Tierra, según la velocidad y el tamaño de un asteroide. Utiliza instrucciones if, else, y elif, así como los operadores and y or.\n",
    "\n",
    "#Agrega el código para crear nuevas variables para la velocidad y el tamaño del asteroide\n",
    "\n",
    "#Para probar el código, prueba con varias velocidades y tamaños\n",
    "\n",
    "#Escribe varias expresiones de prueba o combinaciones de expresiones de prueba para determinar qué mensaje se debe enviar a Tierra."
   ]
  },
  {
   "cell_type": "code",
   "execution_count": 32,
   "metadata": {},
   "outputs": [
    {
     "name": "stdout",
     "output_type": "stream",
     "text": [
      "Sistema de monitoreo de asteroides\n",
      "La velocidad actual del asteroide es: 50 km/s\n",
      "El tamaño del asteroide es: 10 metros\n",
      "Atención con la velocidad del asteroide\n",
      "El tamaño del asteroide no esde peligro\n"
     ]
    }
   ],
   "source": [
    "print(\"Sistema de monitoreo de asteroides\")\n",
    "velocidad_asteroide = input(\"Velocidad del asteroide en km/s: \")\n",
    "tamano_asteroide = input(\"Tamaño del asteroide en metros: \")\n",
    "\n",
    "print(\"La velocidad actual del asteroide es: \" + str(velocidad_asteroide) + \" km/s\")\n",
    "print(\"El tamaño del asteroide es: \" + str(tamano_asteroide) + \" metros\")\n",
    "\n",
    "if float(velocidad_asteroide) >= 25 and float(tamano_asteroide) >= 25:\n",
    "    print(\"Advertencia: Asteroide de tamaño crítico se acerca a la tierra a gran velocidad, todo terminó señores\")\n",
    "\n",
    "elif float(velocidad_asteroide) == 20 and float(tamano_asteroide) >= 25:\n",
    "    print(\"¡Atención!: ¡Revisar si hay una luz en el cielo!\")\n",
    "    print(\"Advertencia: Asteroide de tamaño crítico se acerca a la tierra, todo terminó señores\")\n",
    "\n",
    "elif float(velocidad_asteroide) >= 20 and float(tamano_asteroide) >= 25:\n",
    "    print(\"¡Atención!: ¡Hay una luz en el cielo!\")\n",
    "    print(\"Advertencia: Asteroide de tamaño crítico se acerca a la tierra, todo terminó señores\")\n",
    "\n",
    "elif float(velocidad_asteroide) <= 20 and float(tamano_asteroide) >= 25:\n",
    "    print(\"La velocidad del asteroide no es de atención\")\n",
    "    print(\"Advertencia: Asteroide de tamaño crítico se acerca a la tierra, todo terminó señores\")\n",
    "\n",
    "elif float(velocidad_asteroide) >= 20 and float(tamano_asteroide) <= 25:\n",
    "    print(\"Atención con la velocidad del asteroide\")\n",
    "    print(\"El tamaño del asteroide no esde peligro\")\n",
    "\n",
    "else:\n",
    "    print(\"No hay peligro gente\")\n",
    "\n"
   ]
  }
 ],
 "metadata": {
  "interpreter": {
   "hash": "e7d48009e5df03c8746d8af8c8082fd628ea54546d0962ea901ab335a9126c44"
  },
  "kernelspec": {
   "display_name": "Python 3.10.2 64-bit",
   "language": "python",
   "name": "python3"
  },
  "language_info": {
   "codemirror_mode": {
    "name": "ipython",
    "version": 3
   },
   "file_extension": ".py",
   "mimetype": "text/x-python",
   "name": "python",
   "nbconvert_exporter": "python",
   "pygments_lexer": "ipython3",
   "version": "3.10.2"
  },
  "orig_nbformat": 4
 },
 "nbformat": 4,
 "nbformat_minor": 2
}
