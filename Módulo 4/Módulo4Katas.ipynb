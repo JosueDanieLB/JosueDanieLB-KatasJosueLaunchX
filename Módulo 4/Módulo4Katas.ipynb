{
 "cells": [
  {
   "cell_type": "markdown",
   "metadata": {},
   "source": [
    "# Ejercicio 1: Transformar cadenas\n",
    "\n",
    "Hay varias operaciones que puedes realizar en las cadenas cuando las manipulamos. En este ejercicio, usarás métodos de cadena para modificar el texto con hechos sobre la Luna y luego extraerás información para crear un breve resumen."
   ]
  },
  {
   "cell_type": "markdown",
   "metadata": {},
   "source": [
    "El texto con el que trabajarás es el siguiente:\n",
    "\n"
   ]
  },
  {
   "cell_type": "code",
   "execution_count": 80,
   "metadata": {},
   "outputs": [],
   "source": [
    "text = \"\"\"Datos interesantes acerca de la Luna. La Luna es el único satélite de la Tierra. Hay algunos datos interesantes acerca de la Luna y como esta afecta a la vida en la tierra. \n",
    "En promedio, la Luna se aleja 4cm al año de la Tierra. Esta deriva anual no es lo suficientemente significativo para provocar efectos inmediatos en la Tierra. La temperatura más alta durante el día en la Luna es de 127 C.\"\"\""
   ]
  },
  {
   "cell_type": "markdown",
   "metadata": {},
   "source": [
    "Primero, divide el texto en cada oración para trabajar con su contenido:"
   ]
  },
  {
   "cell_type": "code",
   "execution_count": 81,
   "metadata": {},
   "outputs": [
    {
     "data": {
      "text/plain": [
       "['Datos interesantes acerca de la Luna',\n",
       " ' La Luna es el único satélite de la Tierra',\n",
       " ' Hay algunos datos interesantes acerca de la Luna y como esta afecta a la vida en la tierra',\n",
       " ' \\nEn promedio, la Luna se aleja 4cm al año de la Tierra',\n",
       " ' Esta deriva anual no es lo suficientemente significativo para provocar efectos inmediatos en la Tierra',\n",
       " ' La temperatura más alta durante el día en la Luna es de 127 C',\n",
       " '']"
      ]
     },
     "execution_count": 81,
     "metadata": {},
     "output_type": "execute_result"
    }
   ],
   "source": [
    "oraciones = text.split('.')\n",
    "oraciones"
   ]
  },
  {
   "cell_type": "markdown",
   "metadata": {},
   "source": [
    "Ahora, define algunas palabras clave para búsqueda que te ayudarán a determinar si una oración contiene un hecho.\n",
    "\n",
    "    Define las palabras pista: average, temperature y distance suenan bien\n"
   ]
  },
  {
   "cell_type": "code",
   "execution_count": 82,
   "metadata": {},
   "outputs": [],
   "source": [
    "palabras_clave = [\"promedio\", \"temperatura\", \"distancia\"]"
   ]
  },
  {
   "cell_type": "markdown",
   "metadata": {},
   "source": [
    "Crea un bucle para imprimir solo datos sobre la Luna que estén relacionados con las palabras clave definidas anteriormente:\n"
   ]
  },
  {
   "cell_type": "code",
   "execution_count": 83,
   "metadata": {},
   "outputs": [
    {
     "name": "stdout",
     "output_type": "stream",
     "text": [
      " \n",
      "En promedio, la Luna se aleja 4cm al año de la Tierra\n",
      " La temperatura más alta durante el día en la Luna es de 127 C\n"
     ]
    }
   ],
   "source": [
    "for dato in oraciones:\n",
    "    for term in palabras_clave:\n",
    "        if term in dato:\n",
    "            print(dato)\n",
    "            break"
   ]
  },
  {
   "cell_type": "markdown",
   "metadata": {},
   "source": [
    "Finalmente, actualiza el bucle(ciclo) para cambiar C a Celsius:\n"
   ]
  },
  {
   "cell_type": "code",
   "execution_count": 84,
   "metadata": {},
   "outputs": [
    {
     "name": "stdout",
     "output_type": "stream",
     "text": [
      " \n",
      "En promedio, la Luna se aleja 4cm al año de la Tierra\n",
      " La temperatura más alta durante el día en la Luna es de 127 Celsius\n"
     ]
    }
   ],
   "source": [
    "for dato in oraciones:\n",
    "    for term in palabras_clave:\n",
    "        if term in dato:\n",
    "            print(dato.replace('C', 'Celsius'))\n",
    "            break"
   ]
  },
  {
   "cell_type": "markdown",
   "metadata": {},
   "source": [
    "# Ejercicio 2: Formateando Cadenas\n",
    "\n",
    "Saber cómo dar formato a las cadenas es esencial cuando se presenta información de un programa. Hay algunas maneras diferentes de lograr esto en Python. En este ejercicio, se utilizan variables que contienen datos clave sobre la gravedad en varias lunas y luego se utilizan para dar formato e imprimir la información.\n",
    "\n",
    "El formato tiene que acomodar información sobre otras lunas, por lo que debe ser genérico.\n",
    "\n",
    "En lugar de reemplazar las variables en una cadena larga como parte de un párrafo, utiliza la información para presentarla en un formato tabular. El resultado debería verse así:\n",
    "\n",
    "\n",
    "Gravity Facts about Ganymede\n",
    "\n",
    "-------------------------------------------------------------------------------\n",
    "\n",
    "Planet Name: Mars\n",
    "\n",
    "Gravity on Ganymede: 1.4300000000000002 m/s2"
   ]
  },
  {
   "cell_type": "code",
   "execution_count": 98,
   "metadata": {},
   "outputs": [],
   "source": [
    "# Datos con los que vas a trabajar\n",
    "nombre = \"Luna\"\n",
    "gravedad = 0.00162 # en kms\n",
    "planeta = \"Tierra\""
   ]
  },
  {
   "cell_type": "markdown",
   "metadata": {},
   "source": [
    "\n",
    "Primero, crea un título para el texto. Debido a que este texto trata sobre la gravedad en la Tierra y la Luna, úsalo para crear un título significativo. Utiliza las variables en lugar de escribir.\n"
   ]
  },
  {
   "cell_type": "code",
   "execution_count": 99,
   "metadata": {},
   "outputs": [
    {
     "data": {
      "text/plain": [
       "'Datos Acerca De La Gravedad De La Luna\\n'"
      ]
     },
     "execution_count": 99,
     "metadata": {},
     "output_type": "execute_result"
    }
   ],
   "source": [
    "titulo = 'Datos acerca de la gravedad de la {0}\\n' .format(nombre)\n",
    "f'{titulo.title()}'"
   ]
  },
  {
   "cell_type": "markdown",
   "metadata": {},
   "source": [
    "\n",
    "Ahora crea una plantilla de cadena multilínea para contener el resto de la información. En lugar de usar kilómetros, debes convertir la distancia a metros multiplicando por 1,000.\n"
   ]
  },
  {
   "cell_type": "code",
   "execution_count": 100,
   "metadata": {},
   "outputs": [
    {
     "name": "stdout",
     "output_type": "stream",
     "text": [
      "--------------------------------------------------------------------------------\n",
      "Nombre del planeta: Tierra\n",
      "La gravedad en la Luna es de 0.00162 km/s2.\n",
      "Esa gravedad equivale a 1.6199999999999999 m/s2.\n"
     ]
    }
   ],
   "source": [
    "lineas = '-'*80 + '\\n'\n",
    "multilinea = lineas + \"Nombre del planeta: {0}\\nLa gravedad en la {1} es de {2} km/s2.\\nEsa gravedad equivale a {3} m/s2.\".format(planeta, nombre, gravedad, gravedad*1000)\n",
    "print(multilinea)"
   ]
  },
  {
   "cell_type": "markdown",
   "metadata": {},
   "source": [
    "Finalmente, usa ambas variables para unir el título y los hechos.\n"
   ]
  },
  {
   "cell_type": "code",
   "execution_count": 101,
   "metadata": {},
   "outputs": [
    {
     "name": "stdout",
     "output_type": "stream",
     "text": [
      "Datos acerca de la gravedad de la Luna\n",
      "--------------------------------------------------------------------------------\n",
      "Nombre del planeta: Tierra\n",
      "La gravedad en la Luna es de 0.00162 km/s2.\n",
      "Esa gravedad equivale a 1.6199999999999999 m/s2.\n"
     ]
    }
   ],
   "source": [
    "ejercicio2 = titulo + multilinea\n",
    "\n",
    "print (ejercicio2)"
   ]
  },
  {
   "cell_type": "markdown",
   "metadata": {},
   "source": [
    "Ahora usa información de una luna diferente para ver si la plantilla todavía funciona.\n",
    "\n",
    "Datos muestra:\n",
    "\n",
    "planeta = 'Marte '\n",
    "gravedad  = 0.00143\n",
    "nombre = 'Ganímedes'"
   ]
  },
  {
   "cell_type": "code",
   "execution_count": 102,
   "metadata": {},
   "outputs": [],
   "source": [
    "planeta = 'Marte '\n",
    "gravedad  = 0.00143\n",
    "nombre = 'Ganímedes'"
   ]
  },
  {
   "cell_type": "code",
   "execution_count": 103,
   "metadata": {},
   "outputs": [
    {
     "name": "stdout",
     "output_type": "stream",
     "text": [
      "Datos acerca de la gravedad de la Luna\n",
      "--------------------------------------------------------------------------------\n",
      "Nombre del planeta: Tierra\n",
      "La gravedad en la Luna es de 0.00162 km/s2.\n",
      "Esa gravedad equivale a 1.6199999999999999 m/s2.\n"
     ]
    }
   ],
   "source": [
    "print (ejercicio2)"
   ]
  },
  {
   "cell_type": "markdown",
   "metadata": {},
   "source": [
    "La salida no muestra información sobre Marte. Todavía muestra información sobre la Luna. Esto sucede porque las cadenas f están ansiosas en su evaluación, por lo que las variables una vez asignadas no se pueden reasignar. Para evitar este problema, vuelva a hacer la plantilla para utilizar .format():"
   ]
  },
  {
   "cell_type": "code",
   "execution_count": 95,
   "metadata": {},
   "outputs": [
    {
     "ename": "KeyError",
     "evalue": "'gravedad*1000'",
     "output_type": "error",
     "traceback": [
      "\u001b[1;31m---------------------------------------------------------------------------\u001b[0m",
      "\u001b[1;31mKeyError\u001b[0m                                  Traceback (most recent call last)",
      "\u001b[1;32mz:\\Josue\\Personal\\Documentos\\Desarrollo\\Launch X\\Módulo4Katas.ipynb Cell 24'\u001b[0m in \u001b[0;36m<module>\u001b[1;34m\u001b[0m\n\u001b[0;32m      <a href='vscode-notebook-cell:/z%3A/Josue/Personal/Documentos/Desarrollo/Launch%20X/M%C3%B3dulo4Katas.ipynb#ch0000023?line=0'>1</a>\u001b[0m actualizado \u001b[39m=\u001b[39m \u001b[39m\"\"\"\u001b[39m\n\u001b[0;32m      <a href='vscode-notebook-cell:/z%3A/Josue/Personal/Documentos/Desarrollo/Launch%20X/M%C3%B3dulo4Katas.ipynb#ch0000023?line=1'>2</a>\u001b[0m \n\u001b[0;32m      <a href='vscode-notebook-cell:/z%3A/Josue/Personal/Documentos/Desarrollo/Launch%20X/M%C3%B3dulo4Katas.ipynb#ch0000023?line=2'>3</a>\u001b[0m \u001b[39mNombre del planeta: \u001b[39m\u001b[39m{planeta}\u001b[39;00m\u001b[39m\\n\u001b[39;00m\u001b[39mLa gravedad en la \u001b[39m\u001b[39m{nombre}\u001b[39;00m\u001b[39m es de \u001b[39m\u001b[39m{gravedad}\u001b[39;00m\u001b[39m km/s2.\u001b[39m\u001b[39m\\n\u001b[39;00m\u001b[39mEsa gravedad equivale a \u001b[39m\u001b[39m{\u001b[39m\u001b[39mgravedad*1000} m/s2.\u001b[39m\n\u001b[0;32m      <a href='vscode-notebook-cell:/z%3A/Josue/Personal/Documentos/Desarrollo/Launch%20X/M%C3%B3dulo4Katas.ipynb#ch0000023?line=3'>4</a>\u001b[0m \n\u001b[0;32m      <a href='vscode-notebook-cell:/z%3A/Josue/Personal/Documentos/Desarrollo/Launch%20X/M%C3%B3dulo4Katas.ipynb#ch0000023?line=4'>5</a>\u001b[0m \u001b[39m\"\"\"\u001b[39m\n\u001b[1;32m----> <a href='vscode-notebook-cell:/z%3A/Josue/Personal/Documentos/Desarrollo/Launch%20X/M%C3%B3dulo4Katas.ipynb#ch0000023?line=6'>7</a>\u001b[0m \u001b[39mprint\u001b[39m (actualizado\u001b[39m.\u001b[39;49mformat(planeta\u001b[39m=\u001b[39;49mplaneta, nombre\u001b[39m=\u001b[39;49mnombre, gravedad\u001b[39m=\u001b[39;49mgravedad))\n",
      "\u001b[1;31mKeyError\u001b[0m: 'gravedad*1000'"
     ]
    }
   ],
   "source": [
    "actualizado = \"\"\"\n",
    "\n",
    "Nombre del planeta: {planeta}\\nLa gravedad en la {nombre} es de {gravedad} km/s2.\\nEsa gravedad equivale a {gravedad*1000} m/s2.\n",
    "\n",
    "\"\"\"\n",
    "\n",
    "print (actualizado.format(planeta=planeta, nombre=nombre, gravedad=gravedad))"
   ]
  },
  {
   "cell_type": "markdown",
   "metadata": {},
   "source": [
    "\n",
    "Debido a que .format() no permite expresiones, la gravedad en Ganímedes es incorrecta. Asegúrese de que la operación se realiza fuera de la plantilla de formato e imprima de nuevo para ver el resultado de trabajo."
   ]
  },
  {
   "cell_type": "code",
   "execution_count": 104,
   "metadata": {},
   "outputs": [
    {
     "name": "stdout",
     "output_type": "stream",
     "text": [
      "\n",
      "\n",
      "Nombre del planeta: Marte \n",
      "La gravedad en la Ganímedes es de 0.00143 km/s2.\n",
      "Esa gravedad equivale a 1.4300000000000002 m/s2.\n",
      "\n",
      "\n"
     ]
    }
   ],
   "source": [
    "actualizado = \"\"\"\n",
    "\n",
    "Nombre del planeta: {planeta}\\nLa gravedad en la {nombre} es de {gravedad} km/s2.\\nEsa gravedad equivale a {conversiongravedad} m/s2.\n",
    "\n",
    "\"\"\"\n",
    "\n",
    "print (actualizado.format(planeta=planeta, nombre=nombre, gravedad=gravedad,conversiongravedad=gravedad*1000))"
   ]
  }
 ],
 "metadata": {
  "interpreter": {
   "hash": "e7d48009e5df03c8746d8af8c8082fd628ea54546d0962ea901ab335a9126c44"
  },
  "kernelspec": {
   "display_name": "Python 3.10.2 64-bit",
   "language": "python",
   "name": "python3"
  },
  "language_info": {
   "codemirror_mode": {
    "name": "ipython",
    "version": 3
   },
   "file_extension": ".py",
   "mimetype": "text/x-python",
   "name": "python",
   "nbconvert_exporter": "python",
   "pygments_lexer": "ipython3",
   "version": "3.10.2"
  },
  "orig_nbformat": 4
 },
 "nbformat": 4,
 "nbformat_minor": 2
}
