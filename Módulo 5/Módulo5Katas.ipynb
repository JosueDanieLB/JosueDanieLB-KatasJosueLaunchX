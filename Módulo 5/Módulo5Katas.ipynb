{
 "cells": [
  {
   "cell_type": "markdown",
   "metadata": {},
   "source": [
    "# Ejercicio1 - Utilizar operadores aritméticos\n",
    "\n",
    "    Operadores aritméticos en Python\n",
    "\n",
    "Python proporciona operadores aritméticos comunes para que puedas realizar operaciones matemáticas en tu código. Estos incluyen las cuatro operaciones principales de suma, resta, multiplicación y división.\n",
    "\n",
    "Exploremos cómo podemos crear un programa que pueda calcular la distancia entre dos planetas. Comenzaremos usando dos distancias de planetas: Tierra (149.597.870 km) y Júpiter (778.547.200 km)."
   ]
  },
  {
   "cell_type": "code",
   "execution_count": 1,
   "metadata": {},
   "outputs": [],
   "source": [
    "tierra = 149597870\n",
    "jupiter = 778547200"
   ]
  },
  {
   "cell_type": "markdown",
   "metadata": {},
   "source": [
    "    Realizar la operación\n",
    "\n",
    "Con los valores obtenidos, es el momento de añadir el código para realizar la operación. Restarás el primer planeta del segundo para determinar la distancia en kilómetros. A continuación, puedes convertir la distancia del kilómetro en millas multiplicándola por 0.621."
   ]
  },
  {
   "cell_type": "code",
   "execution_count": 6,
   "metadata": {},
   "outputs": [
    {
     "name": "stdout",
     "output_type": "stream",
     "text": [
      "En kilómetros:\n",
      "628949330\n",
      "En millas:\n",
      "390577533.93\n"
     ]
    }
   ],
   "source": [
    "distancia_tj = abs(tierra - jupiter)\n",
    "distancia_tjmillas = distancia_tj * 0.621\n",
    "\n",
    "print('En kilómetros:')\n",
    "print(distancia_tj)\n",
    "print('En millas:')\n",
    "print (distancia_tjmillas)"
   ]
  },
  {
   "cell_type": "markdown",
   "metadata": {},
   "source": [
    "    Prueba tu proyecto\n",
    "\n",
    "Con el código creado, ejecuta el notebook para obtener el resultado. Deberías recibir lo siguiente:\n",
    "\n",
    "628949330\n",
    "390577534"
   ]
  },
  {
   "cell_type": "code",
   "execution_count": 7,
   "metadata": {},
   "outputs": [
    {
     "name": "stdout",
     "output_type": "stream",
     "text": [
      "En kilómetros:\n",
      "628949330\n",
      "En millas:\n",
      "390577533.93\n"
     ]
    }
   ],
   "source": [
    "print('En kilómetros:')\n",
    "print(distancia_tj)\n",
    "print('En millas:')\n",
    "print (distancia_tjmillas)"
   ]
  },
  {
   "cell_type": "markdown",
   "metadata": {},
   "source": [
    "# Ejercicio 2: convierte cadenas en números y usa valores absolutos\n",
    "\n",
    "    Crear una aplicación para trabajar con números y entrada de usuario\n",
    "\n",
    "Con frecuencia, deberás convertir los valores de cadena en números para realizar correctamente diferentes operaciones o determinar el valor absoluto de un número.\n",
    "\n",
    "Para crear nuestra aplicación, queremos leer la distancia del sol para dos planetas, y luego mostrar la distancia entre los planetas. Haremos esto usando input para leer los valores, int para convertir a entero y luego abs para convertir el resultado en su valor absoluto.\n"
   ]
  },
  {
   "cell_type": "markdown",
   "metadata": {},
   "source": [
    "    Lee los valores\n",
    "\n",
    "Usando input, agrega el código para leer la distancia del sol para cada planeta, considerando 2 planetas.\n"
   ]
  },
  {
   "cell_type": "code",
   "execution_count": 1,
   "metadata": {},
   "outputs": [
    {
     "name": "stdout",
     "output_type": "stream",
     "text": [
      "Sistema de medición de distancia entre el sol y distintos planetas\n",
      "Distancia de la tierra al sol en kilometros:\n",
      "1534153153\n",
      "Distancia de marte al sol en kilometros:\n",
      "471615161\n"
     ]
    }
   ],
   "source": [
    "planeta1 = 'tierra'\n",
    "planeta2 = 'marte'\n",
    "\n",
    "print(\"Sistema de medición de distancia entre el sol y distintos planetas\")\n",
    "entrada_planeta1 = input(f'Distancia de la {planeta1} al sol: ')\n",
    "entrada_planeta2 = input(f'Distancia de {planeta2} al sol: ')\n",
    "\n",
    "print (f'Distancia de la {planeta1} al sol en kilometros:')\n",
    "print (entrada_planeta1)\n",
    "\n",
    "print (f'Distancia de {planeta2} al sol en kilometros:')\n",
    "print (entrada_planeta2)"
   ]
  },
  {
   "cell_type": "markdown",
   "metadata": {},
   "source": [
    "    Convertir a número\n",
    "\n",
    "Debido a que input devuelve valores de cadena, necesitamos convertirlos en números. Para nuestro ejemplo, usaremos int"
   ]
  },
  {
   "cell_type": "code",
   "execution_count": 15,
   "metadata": {},
   "outputs": [
    {
     "name": "stdout",
     "output_type": "stream",
     "text": [
      "5648489464\n",
      "1564654564\n"
     ]
    }
   ],
   "source": [
    "distancia_planeta1 = int(entrada_planeta1)\n",
    "distancia_planeta2 = int(entrada_planeta2)\n",
    "\n",
    "print(distancia_planeta1)\n",
    "print(distancia_planeta2)"
   ]
  },
  {
   "cell_type": "markdown",
   "metadata": {},
   "source": [
    "    Realizar el cálculo y convertir a valor absoluto\n",
    "\n",
    "Con los valores almacenados como números, ahora puedes agregar el código para realizar el cálculo, restando el primer planeta del segundo. Debido a que el segundo planeta podría ser un número mayor, usarás abs para convertirlo a un valor absoluto. También agregarás el código para mostrar el resultado en millas multiplicando la distancia del kilómetro por 0.621"
   ]
  },
  {
   "cell_type": "code",
   "execution_count": 16,
   "metadata": {},
   "outputs": [
    {
     "name": "stdout",
     "output_type": "stream",
     "text": [
      "En kilómetros:\n",
      "4083834900\n",
      "En millas:\n",
      "2536061472.9\n"
     ]
    }
   ],
   "source": [
    "distancia_planetas = abs(distancia_planeta1 - distancia_planeta2)\n",
    "distancia_planetasmillas = distancia_planetas * 0.621\n",
    "\n",
    "print('En kilómetros:')\n",
    "print(distancia_planetas)\n",
    "print('En millas:')\n",
    "print (distancia_planetasmillas)"
   ]
  },
  {
   "cell_type": "markdown",
   "metadata": {},
   "source": [
    "    Prueba tu aplicación\n",
    "\n",
    "Para probar el proyecto, ejecuta tu notebook. En la parte superior de vscode surgirá un cuadro de diálogo para que proporciones las distancias. Puede utilizar los datos de la tabla siguiente:\n",
    "\n",
    "    Planeta \tDistancia al sol\n",
    "\n",
    "    Mercurio \t57900000\n",
    "\n",
    "    Venus \t    108200000\n",
    "\n",
    "    Tierra \t    149600000\n",
    "\n",
    "    Marte \t    227900000\n",
    "\n",
    "    Júpiter \t778600000\n",
    "\n",
    "    Saturno \t1433500000\n",
    "\n",
    "    Urano \t    2872500000\n",
    "    \n",
    "    Neptuno \t4495100000"
   ]
  },
  {
   "cell_type": "code",
   "execution_count": 18,
   "metadata": {},
   "outputs": [
    {
     "name": "stdout",
     "output_type": "stream",
     "text": [
      "Sistema de medición de distancia entre el sol y distintos planetas\n",
      "Distancia de la tierra al sol en kilometros\n",
      "149600000\n",
      "Distancia de marte al sol en kilometros\n",
      "227900000\n",
      "Distancia entre la tierra y marte en kilómetros:\n",
      "78300000\n",
      "Distancia entre la tierra y marte en millas:\n",
      "48624300.0\n"
     ]
    }
   ],
   "source": [
    "planeta1 = 'tierra'\n",
    "planeta2 = 'marte'\n",
    "\n",
    "print(\"Sistema de medición de distancia entre el sol y distintos planetas\")\n",
    "entrada_planeta1 = input(f'Distancia de la {planeta1} al sol: ')\n",
    "entrada_planeta2 = input(f'Distancia de {planeta2} al sol: ')\n",
    "\n",
    "print (f'Distancia de la {planeta1} al sol en kilometros')\n",
    "print (entrada_planeta1)\n",
    "\n",
    "print (f'Distancia de {planeta2} al sol en kilometros')\n",
    "print (entrada_planeta2)\n",
    "\n",
    "distancia_planeta1 = int(entrada_planeta1)\n",
    "distancia_planeta2 = int(entrada_planeta2)\n",
    "\n",
    "distancia_planetas = abs(distancia_planeta1 - distancia_planeta2)\n",
    "distancia_planetasmillas = distancia_planetas * 0.621\n",
    "\n",
    "print(f'Distancia entre la {planeta1} y {planeta2} en kilómetros:')\n",
    "print(distancia_planetas)\n",
    "print(f'Distancia entre la {planeta1} y {planeta2} en millas:')\n",
    "print (distancia_planetasmillas)"
   ]
  }
 ],
 "metadata": {
  "interpreter": {
   "hash": "e7d48009e5df03c8746d8af8c8082fd628ea54546d0962ea901ab335a9126c44"
  },
  "kernelspec": {
   "display_name": "Python 3.10.2 64-bit",
   "language": "python",
   "name": "python3"
  },
  "language_info": {
   "codemirror_mode": {
    "name": "ipython",
    "version": 3
   },
   "file_extension": ".py",
   "mimetype": "text/x-python",
   "name": "python",
   "nbconvert_exporter": "python",
   "pygments_lexer": "ipython3",
   "version": "3.10.2"
  },
  "orig_nbformat": 4
 },
 "nbformat": 4,
 "nbformat_minor": 2
}
