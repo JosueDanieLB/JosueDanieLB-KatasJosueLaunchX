{
 "cells": [
  {
   "cell_type": "markdown",
   "metadata": {},
   "source": [
    "## Ejercicio: Uso de funciones en Python\n",
    "### Ejercicio 1: Trabajar con argumentos en funciones\n",
    "\n",
    "Los argumentos requeridos en las funciones se utilizan cuando las funciones necesitan que esos argumentos funcionen correctamente. En este ejercicio, construirás un informe de combustible que requiere información de varias ubicaciones de combustible en todo el cohete."
   ]
  },
  {
   "cell_type": "markdown",
   "metadata": {},
   "source": [
    "Comienza por crear una función que necesite tres lecturas de combustible y devuelva un informe:"
   ]
  },
  {
   "cell_type": "code",
   "execution_count": 25,
   "metadata": {},
   "outputs": [],
   "source": [
    "# Función para leer 3 tanques de combustible y muestre el promedio\n",
    "\n",
    "def reporte_combustible(tanque1, tanque2, tanque3):\n",
    "    combustible_promedio = (tanque1 + tanque2 + tanque3)/3\n",
    "    return f'El combustible promedio es {combustible_promedio}. El tanque 1 tiene {tanque1} litros de combustible. El tanque 2 tiene {tanque2} litros de combustible.El tanque 3 tiene {tanque3} litros de combustible.'"
   ]
  },
  {
   "cell_type": "markdown",
   "metadata": {},
   "source": [
    "Ahora que hemos definido la función de informes, vamos a comprobarlo. Para esta misión, los tanques no están llenos:"
   ]
  },
  {
   "cell_type": "code",
   "execution_count": 26,
   "metadata": {},
   "outputs": [
    {
     "data": {
      "text/plain": [
       "'El combustible promedio es 18.333333333333332. El tanque 1 tiene 10 litros de combustible. El tanque 2 tiene 15.El tanque 3 tiene 30'"
      ]
     },
     "execution_count": 26,
     "metadata": {},
     "output_type": "execute_result"
    }
   ],
   "source": [
    "# Llamamos a la función que genera el reporte print(funcion(tanque1, tanque2, tanque3))\n",
    "reporte_combustible(10,15,30)"
   ]
  },
  {
   "cell_type": "markdown",
   "metadata": {},
   "source": [
    "En lugar de simplemente crear el informe, la función también está calculando el promedio. Mejora la legibilidad extrayendo el cálculo promedio de la función en una nueva función para que el promedio se pueda hacer de forma independiente:"
   ]
  },
  {
   "cell_type": "code",
   "execution_count": 36,
   "metadata": {},
   "outputs": [],
   "source": [
    "# Función promedio \n",
    "def reporte_combustible_promedio(*argumentos):\n",
    "    combustible = sum(*argumentos)\n",
    "    tanques = len(*argumentos)\n",
    "    return combustible/tanques\n",
    "    "
   ]
  },
  {
   "cell_type": "code",
   "execution_count": 37,
   "metadata": {},
   "outputs": [
    {
     "data": {
      "text/plain": [
       "18.333333333333332"
      ]
     },
     "execution_count": 37,
     "metadata": {},
     "output_type": "execute_result"
    }
   ],
   "source": [
    "reporte_combustible_promedio([10,15,30])"
   ]
  },
  {
   "cell_type": "markdown",
   "metadata": {},
   "source": [
    "Ahora actualiza la función de informes para llamando a la nueva función del promedio:"
   ]
  },
  {
   "cell_type": "code",
   "execution_count": 48,
   "metadata": {},
   "outputs": [],
   "source": [
    "# Actualiza la función\n",
    "def reporte_combustible(tanque1, tanque2, tanque3):\n",
    "    return f'El combustible promedio es {reporte_combustible_promedio([tanque1,tanque2,tanque3])}. El tanque 1 tiene {tanque1} litros de combustible. El tanque 2 tiene {tanque2} litros de combustible.El tanque 3 tiene {tanque3} litros de combustible.'"
   ]
  },
  {
   "cell_type": "code",
   "execution_count": 49,
   "metadata": {},
   "outputs": [
    {
     "data": {
      "text/plain": [
       "'El combustible promedio es 18.333333333333332. El tanque 1 tiene 10 litros de combustible. El tanque 2 tiene 15 litros de combustible.El tanque 3 tiene 30 litros de combustible.'"
      ]
     },
     "execution_count": 49,
     "metadata": {},
     "output_type": "execute_result"
    }
   ],
   "source": [
    "reporte_combustible(10,15,30)"
   ]
  },
  {
   "cell_type": "markdown",
   "metadata": {},
   "source": [
    "### Ejercicio 2: Trabajo con argumentos de palabra clave\n",
    "#### Ejercicio : Trabajar con argumentos de palabras clave en funciones\n",
    "\n",
    "En este ejercicio, construirás un informe de cohete que requiere varias piezas de información, como el tiempo hasta el destino, el combustible a la izquierda y el nombre del destino. Comienza por crear una función que creará un informe preciso de la misión:\n"
   ]
  },
  {
   "cell_type": "code",
   "execution_count": 56,
   "metadata": {},
   "outputs": [],
   "source": [
    "# Función con un informe preciso de la misión. Considera hora de prelanzamiento, tiempo de vuelo, destino, tanque externo y tanque interno\n",
    "def variables_mision(prelanzamiento, tiempo_vuelo, destino, tanque_externo, tanque_interno):\n",
    "    return f'La hora de prelanzamiento es {prelanzamiento}hrs. Tendremos un tiempo de vuelo de {tiempo_vuelo} horas. Nuestro destino es {destino}. Nuestro tanque externo tiene {tanque_externo} litros de combustible, mientras que el tanque interno tiene una reserva de {tanque_interno} litros de combustible'"
   ]
  },
  {
   "cell_type": "code",
   "execution_count": 57,
   "metadata": {},
   "outputs": [
    {
     "data": {
      "text/plain": [
       "'La hora de prelanzamiento es 15hrs. Tendremos un tiempo de vuelo de 56 horas. Nuestro destino es Luna. Nuestro tanque externo tiene 49 litros de combustible, mientras que el tanque interno tiene una reserva de 89 litros de combustible'"
      ]
     },
     "execution_count": 57,
     "metadata": {},
     "output_type": "execute_result"
    }
   ],
   "source": [
    "variables_mision(15, 56,'Luna',49,89)"
   ]
  },
  {
   "cell_type": "markdown",
   "metadata": {},
   "source": [
    "La función es problemática porque no se puede adaptar para minutos adicionales o tanques adicionales de combustible. Hazlo más flexible permitiendo cualquier número de pasos basados en el tiempo y cualquier número de tanques. En lugar de usar *args y **kwargs, aprovecha el hecho de que puedes usar cualquier nombre que desees. Asegurate que la función sea más legible mediante el uso de nombres de variables que están asociados con las entradas, como *minutes y **fuel_reservoirs:\n"
   ]
  },
  {
   "cell_type": "code",
   "execution_count": 69,
   "metadata": {},
   "outputs": [],
   "source": [
    "# Escribe tu nueva función de reporte considerando lo anterior\n",
    "def nueva_mision(destino, *minutos, **tanque_extra):\n",
    "    return f'Nos dirigimos a {destino}, nuestro tiempo de viaje será de {round(sum(minutos)/60)} horas y llevamos una reserva de combustible de {sum(tanque_extra.values())} litros'"
   ]
  },
  {
   "cell_type": "code",
   "execution_count": 70,
   "metadata": {},
   "outputs": [
    {
     "data": {
      "text/plain": [
       "'Nos dirigimos a Tierra, nuestro tiempo de viaje será de 10553 horas y llevamos una reserva de combustible de 1224 litros'"
      ]
     },
     "execution_count": 70,
     "metadata": {},
     "output_type": "execute_result"
    }
   ],
   "source": [
    "nueva_mision('Tierra', 43,235,632873,tanque1=324, tanque2=444, tanque3=456)"
   ]
  },
  {
   "cell_type": "markdown",
   "metadata": {},
   "source": [
    "Debido a que el combustible que queda en los tanques es específico de cada tanque, actualiza la función para usar el nombre de cada tanque en el informe:"
   ]
  },
  {
   "cell_type": "code",
   "execution_count": 106,
   "metadata": {},
   "outputs": [],
   "source": [
    "# Escribe tu nueva función\n",
    "def nueva_mision(destino, *minutos, **tanque_extra):\n",
    "    reporte = f'Nos dirigimos a {destino}, nuestro tiempo de viaje será de {round(sum(minutos)/60)} horas y llevamos una reserva de combustible de {sum(tanque_extra.values())} litros. Los tanques contienen: '\n",
    "    for tanques, cantidad in tanque_extra.items():\n",
    "        reporte = reporte + f'{tanques}: {cantidad} litros. '\n",
    "    return reporte"
   ]
  },
  {
   "cell_type": "code",
   "execution_count": 107,
   "metadata": {},
   "outputs": [
    {
     "data": {
      "text/plain": [
       "'Nos dirigimos a Tierra, nuestro tiempo de viaje será de 10553 horas y llevamos una reserva de combustible de 1224 litros. Los tanques contienen: tanque1: 324 litros. tanque2: 444 litros. tanque3: 456 litros. '"
      ]
     },
     "execution_count": 107,
     "metadata": {},
     "output_type": "execute_result"
    }
   ],
   "source": [
    "nueva_mision('Tierra', 43,235,632873,tanque1=324, tanque2=444, tanque3=456)"
   ]
  }
 ],
 "metadata": {
  "interpreter": {
   "hash": "e7d48009e5df03c8746d8af8c8082fd628ea54546d0962ea901ab335a9126c44"
  },
  "kernelspec": {
   "display_name": "Python 3.10.2 64-bit",
   "language": "python",
   "name": "python3"
  },
  "language_info": {
   "codemirror_mode": {
    "name": "ipython",
    "version": 3
   },
   "file_extension": ".py",
   "mimetype": "text/x-python",
   "name": "python",
   "nbconvert_exporter": "python",
   "pygments_lexer": "ipython3",
   "version": "3.10.2"
  },
  "orig_nbformat": 4
 },
 "nbformat": 4,
 "nbformat_minor": 2
}
